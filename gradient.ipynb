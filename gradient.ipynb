{
 "cells": [
  {
   "cell_type": "markdown",
   "metadata": {},
   "source": [
    "## Метод градиентного спуска"
   ]
  },
  {
   "cell_type": "code",
   "execution_count": 5,
   "metadata": {
    "collapsed": true
   },
   "outputs": [],
   "source": [
    "# для нахождения производной\n",
    "from scipy.misc import derivative\n",
    "\n",
    "# для работы графиков\n",
    "%matplotlib inline\n",
    "from matplotlib import pylab as plt"
   ]
  },
  {
   "cell_type": "code",
   "execution_count": 4,
   "metadata": {
    "collapsed": false
   },
   "outputs": [
    {
     "data": {
      "text/plain": [
       "-10.0"
      ]
     },
     "execution_count": 4,
     "metadata": {},
     "output_type": "execute_result"
    }
   ],
   "source": [
    "# определяем функцию\n",
    "def f(x):\n",
    "    return (x-5)**2\n",
    "\n",
    "# проверяем нахождение f'(x)\n",
    "derivative(f, 0)"
   ]
  },
  {
   "cell_type": "code",
   "execution_count": 13,
   "metadata": {
    "collapsed": false
   },
   "outputs": [
    {
     "data": {
      "image/png": "[encoded data removed]",
      "text/plain": [
       "<matplotlib.figure.Figure at 0x8840a58>"
      ]
     },
     "metadata": {},
     "output_type": "display_data"
    }
   ],
   "source": [
    "# рисуем график функции\n",
    "x = range(-5,15)\n",
    "y = [f(xn) for xn in x]\n",
    "plt.plot(x, y)\n",
    "plt.show()"
   ]
  },
  {
   "cell_type": "code",
   "execution_count": 47,
   "metadata": {
    "collapsed": false
   },
   "outputs": [
    {
     "data": {
      "text/plain": [
       "{0: 25,\n",
       " 1.0: 16.0,\n",
       " 1.8: 10.240000000000002,\n",
       " 2.4400000000000004: 6.5535999999999976,\n",
       " 2.9520000000000004: 4.194303999999998,\n",
       " 3.3616000000000001: 2.6843545599999996,\n",
       " 3.6892800000000001: 1.7179869183999996,\n",
       " 3.9514240000000003: 1.0995116277759995,\n",
       " 4.1611392: 0.70368744177663989,\n",
       " 4.3289113600000002: 0.45035996273704931,\n",
       " 4.4631290880000005: 0.28823037615171121,\n",
       " 4.5705032704000006: 0.18446744073709501,\n",
       " 4.6564026163200003: 0.11805916207174093,\n",
       " 4.7251220930560001: 0.07555786372591429,\n",
       " 4.7800976744448: 0.048357032784585148,\n",
       " 4.8240781395558399: 0.030948500982134555,\n",
       " 4.8592625116446717: 0.019807040628566166,\n",
       " 4.8874100093157375: 0.012676506002282305,\n",
       " 4.9099280074525904: 0.0081129638414606121,\n",
       " 4.9279424059620727: 0.0051922968585347406,\n",
       " 4.942353924769658: 0.0033230699894622544,\n",
       " 4.9538831398157264: 0.0021267647932558427,\n",
       " 4.9631065118525814: 0.0013611294676837131,\n",
       " 4.9704852094820655: 0.00087112285931755548,\n",
       " 4.9763881675856521: 0.00055751862996325226,\n",
       " 4.981110534068522: 0.00035681192317646801}"
      ]
     },
     "execution_count": 47,
     "metadata": {},
     "output_type": "execute_result"
    }
   ],
   "source": [
    "# подготовка к Град. спуску\n",
    "\n",
    "# начальн. значение\n",
    "xn = 0 \n",
    "yn = f(xn)\n",
    "\n",
    "# заводим словарь, где будем хранить все найденные значения функции\n",
    "Y = {xn: yn}\n",
    "\n",
    "# шаг ГС (произвольный подибраем)\n",
    "step = 0.1\n",
    "\n",
    "# по формуле градиентного спуска получаем все значения x y\n",
    "for _ in range(25):\n",
    "    xn = xn - step*derivative(f, xn)\n",
    "    yn = f(xn)\n",
    "    Y[xn] = yn\n",
    "\n",
    "Y"
   ]
  },
  {
   "cell_type": "code",
   "execution_count": 48,
   "metadata": {
    "collapsed": false
   },
   "outputs": [
    {
     "data": {
      "image/png": "[encoded data removed]",
      "text/plain": [
       "<matplotlib.figure.Figure at 0x9beb828>"
      ]
     },
     "metadata": {},
     "output_type": "display_data"
    }
   ],
   "source": [
    "# наносим найденные точки на график\n",
    "plt.plot(list(Y.keys()), list(Y.values()), 'ro')\n",
    "plt.show()"
   ]
  },
  {
   "cell_type": "code",
   "execution_count": 63,
   "metadata": {
    "collapsed": false
   },
   "outputs": [
    {
     "data": {
      "image/png": "[encoded data removed]",
      "text/plain": [
       "<matplotlib.figure.Figure at 0x8320b70>"
      ]
     },
     "metadata": {},
     "output_type": "display_data"
    }
   ],
   "source": [
    "# масштабируем\n",
    "plt.plot(list(Y.keys()), list(Y.values()), 'ro')\n",
    "plt.axis([4.95, 5.05, -0.05, 0.05])\n",
    "plt.show()"
   ]
  },
  {
   "cell_type": "code",
   "execution_count": 62,
   "metadata": {
    "collapsed": false
   },
   "outputs": [
    {
     "name": "stdout",
     "output_type": "stream",
     "text": [
      "мин. Х = 4.98111053407\n",
      "мин. Y = 0.000356811923176\n"
     ]
    }
   ],
   "source": [
    "# словарь значений, где key = х (просто инвертируем Y)\n",
    "X = {}\n",
    "for i in range(len(Y)):\n",
    "    X[list(Y.values())[i]] = list(Y.keys())[i]\n",
    "\n",
    "# выводим пару искомых минимальных X и Y (близких к минимумам)\n",
    "print ('мин. Х =', min(X.items())[1])\n",
    "print ('мин. Y =', min(X.items())[0])"
   ]
  }
 ],
 "metadata": {
  "kernelspec": {
   "display_name": "Python 3",
   "language": "python",
   "name": "python3"
  },
  "language_info": {
   "codemirror_mode": {
    "name": "ipython",
    "version": 3
   },
   "file_extension": ".py",
   "mimetype": "text/x-python",
   "name": "python",
   "nbconvert_exporter": "python",
   "pygments_lexer": "ipython3",
   "version": "3.6.0"
  }
 },
 "nbformat": 4,
 "nbformat_minor": 2
}
